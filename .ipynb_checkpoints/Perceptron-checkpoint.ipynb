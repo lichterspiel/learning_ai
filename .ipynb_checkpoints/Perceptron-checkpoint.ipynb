{
 "cells": [
  {
   "cell_type": "code",
   "execution_count": 9,
   "id": "85c0cd30-c57b-4194-aad3-e8b6c6bd6218",
   "metadata": {},
   "outputs": [],
   "source": [
    "import numpy as np\n",
    "import random, os\n"
   ]
  },
  {
   "cell_type": "code",
   "execution_count": 15,
   "id": "bd511434-c347-4eb0-84ea-37576e3bd1ea",
   "metadata": {},
   "outputs": [],
   "source": [
    "lr = 1 # learning rate\n",
    "bias = 1 \n",
    "weights = [random.random(),random.random(),random.random()]#weights"
   ]
  },
  {
   "cell_type": "code",
   "execution_count": 17,
   "id": "308aa3f6-3822-4af0-b2a7-2ae1193c135d",
   "metadata": {},
   "outputs": [
    {
     "name": "stdout",
     "output_type": "stream",
     "text": [
      "[0.9878218567159451, 0.33686761387358, 0.18489963864511327]\n"
     ]
    }
   ],
   "source": [
    "print(weights)"
   ]
  },
  {
   "cell_type": "code",
   "execution_count": 18,
   "id": "5e319d28-7986-4be8-aa74-ebf765915902",
   "metadata": {},
   "outputs": [],
   "source": [
    "def Perceptron(input1, input2, output):\n",
    "    outputP = input1 * weights[0] + input2 * weights[1] + bias * weights[2]\n",
    "    if outputP > 0 : #activation function here Heaviside\n",
    "        outputP = 1\n",
    "    else:\n",
    "        outputP = 0\n",
    "    error = output - outputP\n",
    "    weights[0] += error * input1 * lr\n",
    "    weights[1] += error * input2 * lr\n",
    "    weights[2] += error * bias * lr\n",
    "    "
   ]
  },
  {
   "cell_type": "code",
   "execution_count": 19,
   "id": "e0d5d94b-b570-4f6c-832c-74e6cfe8c808",
   "metadata": {},
   "outputs": [],
   "source": [
    "for i in range(50) :\n",
    "   Perceptron(1,1,1) #True or true\n",
    "   Perceptron(1,0,1) #True or false\n",
    "   Perceptron(0,1,1) #False or true\n",
    "   Perceptron(0,0,0) #False or false"
   ]
  },
  {
   "cell_type": "code",
   "execution_count": 20,
   "id": "9a43871f-a783-47db-ae06-fd9be0f53bed",
   "metadata": {},
   "outputs": [
    {
     "name": "stdout",
     "output_type": "stream",
     "text": [
      "[0.9878218567159451, 1.33686761387358, -0.8151003613548867]\n"
     ]
    }
   ],
   "source": [
    "print(weights)"
   ]
  },
  {
   "cell_type": "code",
   "execution_count": 21,
   "id": "95a2197c-c249-48f2-a134-9def2cbc00fc",
   "metadata": {},
   "outputs": [
    {
     "name": "stdin",
     "output_type": "stream",
     "text": [
      " 1\n",
      " 0\n"
     ]
    },
    {
     "name": "stdout",
     "output_type": "stream",
     "text": [
      "1 or 0 is :  1\n"
     ]
    }
   ],
   "source": [
    "x = int(input())\n",
    "y = int(input())\n",
    "outputP = x*weights[0] + y*weights[1] + bias*weights[2]\n",
    "if outputP > 0 : #activation function\n",
    "   outputP = 1\n",
    "else :\n",
    "   outputP = 0\n",
    "print(x, \"or\", y, \"is : \", outputP)"
   ]
  },
  {
   "cell_type": "code",
   "execution_count": null,
   "id": "cac229c7-8384-4ca5-9eb9-879d94bf6808",
   "metadata": {},
   "outputs": [],
   "source": []
  }
 ],
 "metadata": {
  "kernelspec": {
   "display_name": "Python 3 (ipykernel)",
   "language": "python",
   "name": "python3"
  },
  "language_info": {
   "codemirror_mode": {
    "name": "ipython",
    "version": 3
   },
   "file_extension": ".py",
   "mimetype": "text/x-python",
   "name": "python",
   "nbconvert_exporter": "python",
   "pygments_lexer": "ipython3",
   "version": "3.9.8"
  }
 },
 "nbformat": 4,
 "nbformat_minor": 5
}
